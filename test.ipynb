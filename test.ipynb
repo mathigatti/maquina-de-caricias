{
 "cells": [
  {
   "cell_type": "code",
   "execution_count": 63,
   "id": "d05f480f-1658-4da7-a327-54e2313c3861",
   "metadata": {},
   "outputs": [
    {
     "data": {
      "text/plain": [
       "0.0"
      ]
     },
     "execution_count": 63,
     "metadata": {},
     "output_type": "execute_result"
    }
   ],
   "source": [
    "import math\n",
    "\n",
    "x_total_cm = 47\n",
    "\n",
    "largo_motor_1 = x_total_cm/2\n",
    "largo_motor_2 = x_total_cm/2\n",
    "\n",
    "diametro_cm = 5\n",
    "perimetro = math.pi * diametro_cm\n",
    "\n",
    "steps_por_vuelta = 6400\n",
    "\n",
    "cm_a_steps = steps_por_vuelta/perimetro\n",
    "\n",
    "\n",
    "def steps(x,y):\n",
    "    global largo_motor_1, largo_motor_2\n",
    "    largo_motor_1_viejo = largo_motor_1\n",
    "    largo_motor_2_viejo = largo_motor_2\n",
    "    largo_motor_1 = math.sqrt(x**2 + y**2)\n",
    "    largo_motor_2 = math.sqrt((x_total_cm-x)**2 + y**2)\n",
    "    \n",
    "    diferencia_motor_1 = largo_motor_1 - largo_motor_1_viejo\n",
    "    diferencia_motor_2 = largo_motor_2 - largo_motor_2_viejo\n",
    "\n",
    "    steps_motor_1 = cm_a_steps*(diferencia_motor_1)\n",
    "    steps_motor_2  = cm_a_steps*(diferencia_motor_2)\n",
    "    \n",
    "    #return vueltas_motor_1, vueltas_motor_2\n",
    "    return int(steps_motor_1), int(steps_motor_2)\n",
    "\n",
    "steps_motor_1, _ = steps(23.5, 0)\n",
    "steps_motor_1/cm_a_steps"
   ]
  },
  {
   "cell_type": "code",
   "execution_count": 64,
   "id": "d15522ac-8ca3-4b86-b4eb-8ed9b66fc9c6",
   "metadata": {},
   "outputs": [
    {
     "data": {
      "text/plain": [
       "4.783565688942583"
      ]
     },
     "execution_count": 64,
     "metadata": {},
     "output_type": "execute_result"
    }
   ],
   "source": [
    "steps_motor_1, _ = steps(20, 20)\n",
    "steps_motor_1/cm_a_steps"
   ]
  },
  {
   "cell_type": "code",
   "execution_count": 65,
   "id": "3fc45711-0806-48b2-a992-70ef342b164f",
   "metadata": {},
   "outputs": [
    {
     "data": {
      "text/plain": [
       "-4.783565688942583"
      ]
     },
     "execution_count": 65,
     "metadata": {},
     "output_type": "execute_result"
    }
   ],
   "source": [
    "steps_motor_1, _ = steps(23.5, 0)\n",
    "steps_motor_1/cm_a_steps"
   ]
  },
  {
   "cell_type": "code",
   "execution_count": 28,
   "id": "a9702e92-fa23-4a1c-a623-f79deadcb437",
   "metadata": {},
   "outputs": [
    {
     "data": {
      "text/plain": [
       "(7224, -4601)"
      ]
     },
     "execution_count": 28,
     "metadata": {},
     "output_type": "execute_result"
    }
   ],
   "source": [
    "steps(40, 10)"
   ]
  },
  {
   "cell_type": "code",
   "execution_count": 12,
   "id": "3b45cc17-a34f-4544-97d9-b6fcd1d1754d",
   "metadata": {},
   "outputs": [
    {
     "data": {
      "text/plain": [
       "12.206555615733702"
      ]
     },
     "execution_count": 12,
     "metadata": {},
     "output_type": "execute_result"
    }
   ],
   "source": [
    "23.5-11.293444384266298"
   ]
  },
  {
   "cell_type": "code",
   "execution_count": 11,
   "id": "b93ecc3d-6cb1-43f6-b181-f4299d29aa93",
   "metadata": {},
   "outputs": [
    {
     "data": {
      "text/plain": [
       "41.230000000000004"
      ]
     },
     "execution_count": 11,
     "metadata": {},
     "output_type": "execute_result"
    }
   ],
   "source": [
    "23.5+17.73"
   ]
  }
 ],
 "metadata": {
  "kernelspec": {
   "display_name": "Python 3 (ipykernel)",
   "language": "python",
   "name": "python3"
  },
  "language_info": {
   "codemirror_mode": {
    "name": "ipython",
    "version": 3
   },
   "file_extension": ".py",
   "mimetype": "text/x-python",
   "name": "python",
   "nbconvert_exporter": "python",
   "pygments_lexer": "ipython3",
   "version": "3.8.10"
  }
 },
 "nbformat": 4,
 "nbformat_minor": 5
}
