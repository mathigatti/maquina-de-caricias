{
 "cells": [
  {
   "cell_type": "code",
   "execution_count": 11,
   "id": "c5a50d23-dd9b-46ac-8a51-b889c0619d16",
   "metadata": {},
   "outputs": [
    {
     "data": {
      "text/plain": [
       "(94.33981132056604, 94.33981132056604, 120.0)"
      ]
     },
     "execution_count": 11,
     "metadata": {},
     "output_type": "execute_result"
    }
   ],
   "source": [
    "x_total_cm = 100;\n",
    "z_total_cm = 200;\n",
    "y_total_cm = 220;\n",
    "\n",
    "x = x_total_cm/2;\n",
    "y = 0;\n",
    "z = z_total_cm*2/5;\n",
    "\n",
    "from math import sqrt, pow\n",
    "\n",
    "largo_motor_1 = sqrt(pow(x, 2) + pow(y, 2) + pow(z, 2));\n",
    "largo_motor_2 = sqrt(pow(x_total_cm - x, 2) + pow(y, 2) + pow(z, 2));\n",
    "largo_motor_3 = sqrt(pow(x_total_cm/2 - x, 2) + pow(y, 2) + pow(z_total_cm - z, 2));\n",
    "\n",
    "largo_motor_1, largo_motor_2, largo_motor_3"
   ]
  },
  {
   "cell_type": "code",
   "execution_count": 63,
   "id": "c5b07b92-295a-49a1-9b7d-db2258424388",
   "metadata": {},
   "outputs": [
    {
     "data": {
      "text/plain": [
       "'(50.0,130.0,80.0)'"
      ]
     },
     "execution_count": 63,
     "metadata": {},
     "output_type": "execute_result"
    }
   ],
   "source": [
    "import math\n",
    "\n",
    "def valor(i):\n",
    "    x_total_cm = 100;\n",
    "    z_total_cm = 200;\n",
    "    y_total_cm = 220;\n",
    "\n",
    "    x = x_total_cm/2;\n",
    "    y = 0;\n",
    "    z = z_total_cm*2/5;\n",
    "\n",
    "    max_v = 10\n",
    "    base = 120\n",
    "    return (x, math.sin(i)*max_v+base, z)\n",
    "\n",
    "str(valor(math.pi*2/4)).replace(\" \", \"\")"
   ]
  },
  {
   "cell_type": "code",
   "execution_count": 47,
   "id": "d4715ba6-d801-4725-8159-aa0f81a45007",
   "metadata": {},
   "outputs": [
    {
     "data": {
      "text/plain": [
       "True"
      ]
     },
     "execution_count": 47,
     "metadata": {},
     "output_type": "execute_result"
    }
   ],
   "source": [
    "def valid_coords(x, y, z, x_max=100, y_max=220, z_max=200):\n",
    "    # Function to calculate the area of a triangle given its vertices\n",
    "    def triangle_area(x1, z1, x2, z2, x3, z3):\n",
    "        return abs((x1 * (z2 - z3) + x2 * (z3 - z1) + x3 * (z1 - z2)) / 2.0)\n",
    "\n",
    "    # Vertices of the triangle\n",
    "    x1, z1 = 0, 0\n",
    "    x2, z2 = x_max, 0\n",
    "    x3, z3 = x_max / 2, z_max\n",
    "\n",
    "    # Total area of the triangle\n",
    "    total_area = triangle_area(x1, z1, x2, z2, x3, z3)\n",
    "\n",
    "    # Areas of triangles formed with the point (x, z)\n",
    "    area1 = triangle_area(x, z, x2, z2, x3, z3)\n",
    "    area2 = triangle_area(x1, z1, x, z, x3, z3)\n",
    "    area3 = triangle_area(x1, z1, x2, z2, x, z)\n",
    "\n",
    "    # Check if the sum of the areas matches the total area\n",
    "    return total_area == (area1 + area2 + area3) and 0 <= y <= y_max\n",
    "\n",
    "valid_coords(0.,0.,0.)"
   ]
  }
 ],
 "metadata": {
  "kernelspec": {
   "display_name": "Python 3 (ipykernel)",
   "language": "python",
   "name": "python3"
  },
  "language_info": {
   "codemirror_mode": {
    "name": "ipython",
    "version": 3
   },
   "file_extension": ".py",
   "mimetype": "text/x-python",
   "name": "python",
   "nbconvert_exporter": "python",
   "pygments_lexer": "ipython3",
   "version": "3.8.10"
  }
 },
 "nbformat": 4,
 "nbformat_minor": 5
}
