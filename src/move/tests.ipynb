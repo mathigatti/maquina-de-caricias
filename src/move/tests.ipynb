{
 "cells": [
  {
   "cell_type": "code",
   "execution_count": 11,
   "id": "c5a50d23-dd9b-46ac-8a51-b889c0619d16",
   "metadata": {},
   "outputs": [
    {
     "data": {
      "text/plain": [
       "(94.33981132056604, 94.33981132056604, 120.0)"
      ]
     },
     "execution_count": 11,
     "metadata": {},
     "output_type": "execute_result"
    }
   ],
   "source": [
    "x_total_cm = 100;\n",
    "z_total_cm = 200;\n",
    "y_total_cm = 220;\n",
    "\n",
    "x = x_total_cm/2;\n",
    "y = 0;\n",
    "z = z_total_cm*2/5;\n",
    "\n",
    "from math import sqrt, pow\n",
    "\n",
    "largo_motor_1 = sqrt(pow(x, 2) + pow(y, 2) + pow(z, 2));\n",
    "largo_motor_2 = sqrt(pow(x_total_cm - x, 2) + pow(y, 2) + pow(z, 2));\n",
    "largo_motor_3 = sqrt(pow(x_total_cm/2 - x, 2) + pow(y, 2) + pow(z_total_cm - z, 2));\n",
    "\n",
    "largo_motor_1, largo_motor_2, largo_motor_3"
   ]
  },
  {
   "cell_type": "code",
   "execution_count": 17,
   "id": "c5b07b92-295a-49a1-9b7d-db2258424388",
   "metadata": {},
   "outputs": [
    {
     "data": {
      "text/plain": [
       "'(50.0,129.12945250727628,80.0)'"
      ]
     },
     "execution_count": 17,
     "metadata": {},
     "output_type": "execute_result"
    }
   ],
   "source": [
    "import math\n",
    "\n",
    "def valor(i):\n",
    "    x_total_cm = 100;\n",
    "    z_total_cm = 200;\n",
    "    y_total_cm = 220;\n",
    "\n",
    "    x = x_total_cm/2;\n",
    "    y = 0;\n",
    "    z = z_total_cm*2/5;\n",
    "\n",
    "    max_v = 10\n",
    "    base = 120\n",
    "    return (x, math.sin(i)*max_v+base, z)\n",
    "\n",
    "str(valor(20)).replace(\" \", \"\")"
   ]
  }
 ],
 "metadata": {
  "kernelspec": {
   "display_name": "Python 3 (ipykernel)",
   "language": "python",
   "name": "python3"
  },
  "language_info": {
   "codemirror_mode": {
    "name": "ipython",
    "version": 3
   },
   "file_extension": ".py",
   "mimetype": "text/x-python",
   "name": "python",
   "nbconvert_exporter": "python",
   "pygments_lexer": "ipython3",
   "version": "3.8.10"
  }
 },
 "nbformat": 4,
 "nbformat_minor": 5
}
